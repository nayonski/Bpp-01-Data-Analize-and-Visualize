{
  "nbformat": 4,
  "nbformat_minor": 0,
  "metadata": {
    "colab": {
      "provenance": [],
      "authorship_tag": "ABX9TyOlQVWAsFbFhTzIbHd04YR4",
      "include_colab_link": true
    },
    "kernelspec": {
      "name": "python3",
      "display_name": "Python 3"
    },
    "language_info": {
      "name": "python"
    }
  },
  "cells": [
    {
      "cell_type": "markdown",
      "metadata": {
        "id": "view-in-github",
        "colab_type": "text"
      },
      "source": [
        "<a href=\"https://colab.research.google.com/github/nayonski/Bpp-01-Data-Analize-and-Visualize/blob/main/BPP_01_regID_Dataanalize_and_Visualize.ipynb\" target=\"_parent\"><img src=\"https://colab.research.google.com/assets/colab-badge.svg\" alt=\"Open In Colab\"/></a>"
      ]
    },
    {
      "cell_type": "code",
      "execution_count": 4,
      "metadata": {
        "id": "F3z3UnBNV22g"
      },
      "outputs": [],
      "source": [
        "import pandas as pd\n",
        "import matplotlib.pyplot as plt\n"
      ]
    },
    {
      "cell_type": "code",
      "source": [
        "!wget https://raw.githubusercontent.com/Abdullahfoysal/pp11-Project-AnalyzeAndVisualize/refs/heads/main/student_data.csv"
      ],
      "metadata": {
        "colab": {
          "base_uri": "https://localhost:8080/"
        },
        "id": "wxtvjPHyXmpW",
        "outputId": "2c56f188-1eb1-415e-fd61-63994e8b967a"
      },
      "execution_count": 3,
      "outputs": [
        {
          "output_type": "stream",
          "name": "stdout",
          "text": [
            "--2024-12-21 04:32:20--  https://raw.githubusercontent.com/Abdullahfoysal/pp11-Project-AnalyzeAndVisualize/refs/heads/main/student_data.csv\n",
            "Resolving raw.githubusercontent.com (raw.githubusercontent.com)... 185.199.108.133, 185.199.109.133, 185.199.110.133, ...\n",
            "Connecting to raw.githubusercontent.com (raw.githubusercontent.com)|185.199.108.133|:443... connected.\n",
            "HTTP request sent, awaiting response... 200 OK\n",
            "Length: 133023 (130K) [text/plain]\n",
            "Saving to: ‘student_data.csv’\n",
            "\n",
            "student_data.csv    100%[===================>] 129.91K  --.-KB/s    in 0.01s   \n",
            "\n",
            "2024-12-21 04:32:21 (11.6 MB/s) - ‘student_data.csv’ saved [133023/133023]\n",
            "\n"
          ]
        }
      ]
    },
    {
      "cell_type": "code",
      "source": [
        "#count the number of students who have an HSC GPA greater than 3.5\n",
        "import pandas as pd\n",
        "df= pd.read_csv(\"student_data.csv\")\n",
        "numbers_student_hsc_gpa= (df[\"hsc_gpa\"]>3.5).sum()\n",
        "print(\"Number of student with HSC GPA> 3.5:\",numbers_student_hsc_gpa)"
      ],
      "metadata": {
        "colab": {
          "base_uri": "https://localhost:8080/"
        },
        "id": "5X2c1WlF8T-u",
        "outputId": "a6598bdd-4911-41f3-f2af-375787776e01"
      },
      "execution_count": 5,
      "outputs": [
        {
          "output_type": "stream",
          "name": "stdout",
          "text": [
            "Number of student with HSC GPA> 3.5: 378\n"
          ]
        }
      ]
    },
    {
      "cell_type": "code",
      "source": [
        "#Display students from \"Chemical engineering\" who have a CGPA abov 3.0\n",
        "import pandas as pd\n",
        "df=pd.read_csv(\"student_data.csv\")\n",
        "student_info= df[(df[\"department\"] == \"Chemical engineering\") & (df[\"cgpa\"] > 3.00)]\n",
        "print(\"Students from chemical Engineering with CGPA > 3.00:\\n\", student_info)\n",
        "\n"
      ],
      "metadata": {
        "id": "jJdWFu51_7cb",
        "colab": {
          "base_uri": "https://localhost:8080/"
        },
        "outputId": "3655363e-aab4-434b-f936-c9e04ef2996d"
      },
      "execution_count": 13,
      "outputs": [
        {
          "output_type": "stream",
          "name": "stdout",
          "text": [
            "Students from chemical Engineering with CGPA > 3.00:\n",
            " Empty DataFrame\n",
            "Columns: [id, first_name, last_name, email, gender, ip_address, cgpa, passing_year, department, attendance, home_district, abroad_study, student_id, graduation_date, study_abroad_country, study_abroad_city, hsc_gpa, ssc_gpa]\n",
            "Index: []\n"
          ]
        }
      ]
    },
    {
      "cell_type": "code",
      "source": [
        "#Calculate the average attendance for all students who have studied abroad\n",
        "import pandas as pd\n",
        "df= pd.read_csv=(\"student_data.csv\")\n",
        "average_attendence_of_student_studied_abroad= df[df[\"abroad_study\"]== true] [\"attendance\"].mean()\n",
        "print(\"Student who are studied abroad:\",average_attendence_of_student_studied_abroad)\n"
      ],
      "metadata": {
        "colab": {
          "base_uri": "https://localhost:8080/",
          "height": 193
        },
        "id": "5qqXUOpmfoPd",
        "outputId": "0738045c-20b8-48be-b32e-edb600f5bbe8"
      },
      "execution_count": 17,
      "outputs": [
        {
          "output_type": "error",
          "ename": "TypeError",
          "evalue": "string indices must be integers",
          "traceback": [
            "\u001b[0;31m---------------------------------------------------------------------------\u001b[0m",
            "\u001b[0;31mTypeError\u001b[0m                                 Traceback (most recent call last)",
            "\u001b[0;32m<ipython-input-17-935cce3de886>\u001b[0m in \u001b[0;36m<cell line: 4>\u001b[0;34m()\u001b[0m\n\u001b[1;32m      2\u001b[0m \u001b[0;32mimport\u001b[0m \u001b[0mpandas\u001b[0m \u001b[0;32mas\u001b[0m \u001b[0mpd\u001b[0m\u001b[0;34m\u001b[0m\u001b[0;34m\u001b[0m\u001b[0m\n\u001b[1;32m      3\u001b[0m \u001b[0mdf\u001b[0m\u001b[0;34m=\u001b[0m \u001b[0mpd\u001b[0m\u001b[0;34m.\u001b[0m\u001b[0mread_csv\u001b[0m\u001b[0;34m=\u001b[0m\u001b[0;34m(\u001b[0m\u001b[0;34m\"student_data.csv\"\u001b[0m\u001b[0;34m)\u001b[0m\u001b[0;34m\u001b[0m\u001b[0;34m\u001b[0m\u001b[0m\n\u001b[0;32m----> 4\u001b[0;31m \u001b[0maverage_attendence_of_student_studied_abroad\u001b[0m\u001b[0;34m=\u001b[0m \u001b[0mdf\u001b[0m\u001b[0;34m[\u001b[0m\u001b[0mdf\u001b[0m\u001b[0;34m[\u001b[0m\u001b[0;34m\"abroad_study\"\u001b[0m\u001b[0;34m]\u001b[0m\u001b[0;34m==\u001b[0m \u001b[0;36m1\u001b[0m\u001b[0;34m]\u001b[0m \u001b[0;34m[\u001b[0m\u001b[0;34m\"attendance\"\u001b[0m\u001b[0;34m]\u001b[0m\u001b[0;34m.\u001b[0m\u001b[0mmean\u001b[0m\u001b[0;34m(\u001b[0m\u001b[0;34m)\u001b[0m\u001b[0;34m\u001b[0m\u001b[0;34m\u001b[0m\u001b[0m\n\u001b[0m\u001b[1;32m      5\u001b[0m \u001b[0mprint\u001b[0m\u001b[0;34m(\u001b[0m\u001b[0;34m\"Student who are studied abroad:\"\u001b[0m\u001b[0;34m,\u001b[0m\u001b[0maverage_attendence_of_student_studied_abroad\u001b[0m\u001b[0;34m)\u001b[0m\u001b[0;34m\u001b[0m\u001b[0;34m\u001b[0m\u001b[0m\n",
            "\u001b[0;31mTypeError\u001b[0m: string indices must be integers"
          ]
        }
      ]
    }
  ]
}