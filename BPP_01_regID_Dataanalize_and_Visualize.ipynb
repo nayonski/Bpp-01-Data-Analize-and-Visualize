{
  "nbformat": 4,
  "nbformat_minor": 0,
  "metadata": {
    "colab": {
      "provenance": [],
      "authorship_tag": "ABX9TyOZnCEeVDXNPXrVCoa311qe",
      "include_colab_link": true
    },
    "kernelspec": {
      "name": "python3",
      "display_name": "Python 3"
    },
    "language_info": {
      "name": "python"
    }
  },
  "cells": [
    {
      "cell_type": "markdown",
      "metadata": {
        "id": "view-in-github",
        "colab_type": "text"
      },
      "source": [
        "<a href=\"https://colab.research.google.com/github/nayonski/Bpp-01-Data-Analize-and-Visualize/blob/main/BPP_01_regID_Dataanalize_and_Visualize.ipynb\" target=\"_parent\"><img src=\"https://colab.research.google.com/assets/colab-badge.svg\" alt=\"Open In Colab\"/></a>"
      ]
    },
    {
      "cell_type": "code",
      "execution_count": 8,
      "metadata": {
        "id": "F3z3UnBNV22g"
      },
      "outputs": [],
      "source": [
        "import pandas as pd\n",
        "import matplotlib.pyplot as plt\n"
      ]
    },
    {
      "cell_type": "code",
      "source": [
        "!wget https://raw.githubusercontent.com/Abdullahfoysal/pp11-Project-AnalyzeAndVisualize/refs/heads/main/student_data.csv"
      ],
      "metadata": {
        "colab": {
          "base_uri": "https://localhost:8080/"
        },
        "id": "wxtvjPHyXmpW",
        "outputId": "0f778aba-c332-4ec6-f2ee-ea1372ea13e8"
      },
      "execution_count": 9,
      "outputs": [
        {
          "output_type": "stream",
          "name": "stdout",
          "text": [
            "--2024-12-20 16:55:53--  https://raw.githubusercontent.com/Abdullahfoysal/pp11-Project-AnalyzeAndVisualize/refs/heads/main/student_data.csv\n",
            "Resolving raw.githubusercontent.com (raw.githubusercontent.com)... 185.199.109.133, 185.199.108.133, 185.199.110.133, ...\n",
            "Connecting to raw.githubusercontent.com (raw.githubusercontent.com)|185.199.109.133|:443... connected.\n",
            "HTTP request sent, awaiting response... 200 OK\n",
            "Length: 133023 (130K) [text/plain]\n",
            "Saving to: ‘student_data.csv’\n",
            "\n",
            "\rstudent_data.csv      0%[                    ]       0  --.-KB/s               \rstudent_data.csv    100%[===================>] 129.91K  --.-KB/s    in 0.04s   \n",
            "\n",
            "2024-12-20 16:55:53 (3.35 MB/s) - ‘student_data.csv’ saved [133023/133023]\n",
            "\n"
          ]
        }
      ]
    },
    {
      "cell_type": "code",
      "source": [
        "#count the number of students who have an HSC GPA greater than 3.5\n",
        "import pandas as pd\n",
        "df= pd.read_csv(\"student_data.csv\")\n",
        "numbers_student_hsc_gpa= (df[\"hsc_gpa\"]>3.5).sum()\n",
        "print(\"Number of student with HSC GPA> 3.5:\",numbers_student_hsc_gpa)"
      ],
      "metadata": {
        "colab": {
          "base_uri": "https://localhost:8080/"
        },
        "id": "5X2c1WlF8T-u",
        "outputId": "b591c573-a752-41aa-bfa5-33491df9d347"
      },
      "execution_count": 10,
      "outputs": [
        {
          "output_type": "stream",
          "name": "stdout",
          "text": [
            "Number of student with HSC GPA> 3.5: 378\n"
          ]
        }
      ]
    },
    {
      "cell_type": "code",
      "source": [
        "#Display students from \"Chemical engineering\" who have a CGPA abov 3.0\n",
        "import pandas as pd\n",
        "df=pd.read_csv(\"student_data.csv\")"
      ],
      "metadata": {
        "id": "jJdWFu51_7cb"
      },
      "execution_count": null,
      "outputs": []
    }
  ]
}