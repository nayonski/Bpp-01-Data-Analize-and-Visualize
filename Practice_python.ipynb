{
  "nbformat": 4,
  "nbformat_minor": 0,
  "metadata": {
    "colab": {
      "provenance": [],
      "authorship_tag": "ABX9TyO+AzzAZrKtAhemEgs3BAki",
      "include_colab_link": true
    },
    "kernelspec": {
      "name": "python3",
      "display_name": "Python 3"
    },
    "language_info": {
      "name": "python"
    }
  },
  "cells": [
    {
      "cell_type": "markdown",
      "metadata": {
        "id": "view-in-github",
        "colab_type": "text"
      },
      "source": [
        "<a href=\"https://colab.research.google.com/github/nayonski/Bpp-01-Data-Analize-and-Visualize/blob/main/Practice_python.ipynb\" target=\"_parent\"><img src=\"https://colab.research.google.com/assets/colab-badge.svg\" alt=\"Open In Colab\"/></a>"
      ]
    },
    {
      "cell_type": "code",
      "execution_count": 5,
      "metadata": {
        "colab": {
          "base_uri": "https://localhost:8080/"
        },
        "id": "DFiWV2OOWs_J",
        "outputId": "7147222b-b26b-4514-8e2e-1b38d7e954d8"
      },
      "outputs": [
        {
          "name": "stdout",
          "output_type": "stream",
          "text": [
            "Welcome to my computer quiz!\n",
            "Do you want to play?yes\n",
            "Welcome to my computer quiz!\n",
            "Do you want to play?No\n"
          ]
        }
      ],
      "source": [
        "#Playing computer quiz projects\n",
        "print(\"Welcome to my computer quiz!\")\n",
        "playing=input(\"Do you want to play?\")\n",
        "if playing != \"Yes\":\n",
        "    print(\"Welcome to my computer quiz!\") # Indented this line by 4 spaces\n",
        "    playing=input(\"Do you want to play?\") # Indented this line by 4 spaces\n",
        "    if playing != \"Yes\": # Indented this line by 4 spaces\n",
        "        quit() # Indented this line by 4 spaces\n",
        "    else:\n",
        "        print(\"Okay!Let's play:\")\n",
        "else:\n",
        "   print(\"Okay!Let's go to school:\") # Indented this line by 4 spaces\n"
      ]
    },
    {
      "cell_type": "code",
      "source": [
        "#Quiz competition projects\n",
        "score=0\n",
        "answer = input(\"what does CPU stands for?\")\n",
        "if answer.lower() == \"graphics processing unit\":\n",
        "    print('Correct!')\n",
        "    score = score +1\n",
        "else:\n",
        "    print(\"Incorrect\")\n",
        "\n",
        "answer = input(\"What dose RAM stands for?\")\n",
        "if answer.lower() == \"random access memory\":\n",
        "    print('Correct!')\n",
        "    score= score +1\n",
        "else:\n",
        "    print(\"Incorrect\")\n",
        "\n",
        "answer = input(\"what does PSU stands for?\")\n",
        "if answer.lower() == \"Power supply\":\n",
        "    print('Correct!')\n",
        "    score= score +1\n",
        "else:\n",
        "    print(\"Incorrect\")\n",
        "\n",
        "print(\"you got \" + str(score) + \" questions correct!\")\n",
        "print(\"you got \" + str((score/4)*100) + \"%\")"
      ],
      "metadata": {
        "colab": {
          "base_uri": "https://localhost:8080/"
        },
        "id": "6-ms9FaIg5Jd",
        "outputId": "b91f26d5-4ee5-49f1-e6cd-305ddf70e8c1"
      },
      "execution_count": 7,
      "outputs": [
        {
          "output_type": "stream",
          "name": "stdout",
          "text": [
            "what does CPU stands for?Central processing unit\n",
            "Incorrect\n",
            "What dose RAM stands for?random access memory\n",
            "Correct!\n",
            "what does PSU stands for?Power supply\n",
            "Incorrect\n",
            "you got 1 questions correct!\n",
            "you got 25.0%\n"
          ]
        }
      ]
    },
    {
      "cell_type": "code",
      "source": [
        "import random\n",
        "\n",
        "# Get the range from the user\n",
        "start_range = int(input(\"Enter the starting number of the range: \"))\n",
        "end_range = int(input(\"Enter the ending number of the range: \"))\n",
        "\n",
        "# Generate a random integer within the specified range\n",
        "random_number = random.randint(start_range, end_range)\n",
        "\n",
        "# Print the random number\n",
        "print(\"The random number is:\", random_number)"
      ],
      "metadata": {
        "colab": {
          "base_uri": "https://localhost:8080/"
        },
        "id": "wNSPM2FgnyBX",
        "outputId": "8a528123-bb89-4100-e2e9-74ed84857b93"
      },
      "execution_count": 15,
      "outputs": [
        {
          "output_type": "stream",
          "name": "stdout",
          "text": [
            "Enter the starting number of the range: 5\n",
            "Enter the ending number of the range: 10\n",
            "The random number is: 5\n"
          ]
        }
      ]
    },
    {
      "cell_type": "markdown",
      "source": [],
      "metadata": {
        "id": "tFrr3CdbuHGh"
      }
    },
    {
      "cell_type": "code",
      "source": [],
      "metadata": {
        "id": "0cfXwJNrnwzl"
      },
      "execution_count": null,
      "outputs": []
    }
  ]
}